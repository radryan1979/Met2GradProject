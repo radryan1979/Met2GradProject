{
 "cells": [
  {
   "cell_type": "code",
   "execution_count": 3,
   "metadata": {},
   "outputs": [],
   "source": [
    "import xarray as xr\n",
    "\n",
    "# Example: ERA5 monthly mean u-wind and temperature at pressure levels\n",
    "ds = xr.open_dataset('/Users/ryaneagan/Downloads/met_test_data_500hpa.nc')\n",
    "\n",
    "u = ds['u']  # [time, level, lat, lon]\n",
    "T = ds['t']  # Temperature\n",
    "lat = ds['latitude']\n",
    "#p = ds['level'] * 100  # hPa to Pa\n",
    "p = 500"
   ]
  },
  {
   "cell_type": "code",
   "execution_count": 4,
   "metadata": {},
   "outputs": [],
   "source": [
    "u_zm = u.mean(dim='longitude')\n",
    "T_zm = T.mean(dim='longitude')"
   ]
  },
  {
   "cell_type": "markdown",
   "metadata": {},
   "source": [
    "Calc background PV gradient $ q_{y} $ for QG in pressure coordinates\n",
    "\n",
    "$$ q_{y} \\approx \\beta - \\frac{\\partial^2\\bar{u}}{a^2 \\cos^2(\\phi) \\partial\\phi^2} + (vertical shear term) $$\n",
    "\n",
    "This just computes the barotropic contribution"
   ]
  },
  {
   "cell_type": "markdown",
   "metadata": {},
   "source": []
  },
  {
   "cell_type": "code",
   "execution_count": 6,
   "metadata": {},
   "outputs": [
    {
     "ename": "ValueError",
     "evalue": "applied function returned data with an unexpected number of dimensions. Received 3 dimension(s) but expected 1 dimensions with names ('latitude',), from:\n\narray([[[ 2.851191e+17,           nan, ...,           nan,           nan]],\n\n       [[ 1.001013e+17,           nan, ...,           nan,           nan]],\n\n       ...,\n\n       [[-1.974042e+16,           nan, ...,           nan,           nan]],\n\n       [[-7.002551e+16,           nan, ...,           nan,           nan]]],\n      shape=(72, 1, 121))",
     "output_type": "error",
     "traceback": [
      "\u001b[31m---------------------------------------------------------------------------\u001b[39m",
      "\u001b[31mValueError\u001b[39m                                Traceback (most recent call last)",
      "\u001b[36mCell\u001b[39m\u001b[36m \u001b[39m\u001b[32mIn[6]\u001b[39m\u001b[32m, line 14\u001b[39m\n\u001b[32m     11\u001b[39m dphi = np.gradient(phi)\n\u001b[32m     12\u001b[39m d2u_dphi2 = np.gradient(np.gradient(u_zm.values, dphi, axis=-\u001b[32m1\u001b[39m), dphi, axis=-\u001b[32m1\u001b[39m)\n\u001b[32m---> \u001b[39m\u001b[32m14\u001b[39m q_y = beta - \u001b[43md2u_dphi2\u001b[49m\u001b[43m \u001b[49m\u001b[43m/\u001b[49m\u001b[43m \u001b[49m\u001b[43m(\u001b[49m\u001b[43mRe\u001b[49m\u001b[43m*\u001b[49m\u001b[43m*\u001b[49m\u001b[32;43m2\u001b[39;49m\u001b[43m \u001b[49m\u001b[43m*\u001b[49m\u001b[43m \u001b[49m\u001b[43mcosphi\u001b[49m\u001b[43m*\u001b[49m\u001b[43m*\u001b[49m\u001b[32;43m2\u001b[39;49m\u001b[43m)\u001b[49m\n",
      "\u001b[36mFile \u001b[39m\u001b[32m~/opt/anaconda3/envs/metanalysis/lib/python3.12/site-packages/xarray/computation/arithmetic.py:84\u001b[39m, in \u001b[36mSupportsArithmetic.__array_ufunc__\u001b[39m\u001b[34m(self, ufunc, method, *inputs, **kwargs)\u001b[39m\n\u001b[32m     75\u001b[39m     \u001b[38;5;28;01mraise\u001b[39;00m \u001b[38;5;167;01mNotImplementedError\u001b[39;00m(\n\u001b[32m     76\u001b[39m         \u001b[33m\"\u001b[39m\u001b[33mxarray objects are not yet supported in the `out` argument \u001b[39m\u001b[33m\"\u001b[39m\n\u001b[32m     77\u001b[39m         \u001b[33m\"\u001b[39m\u001b[33mfor ufuncs. As an alternative, consider explicitly \u001b[39m\u001b[33m\"\u001b[39m\n\u001b[32m     78\u001b[39m         \u001b[33m\"\u001b[39m\u001b[33mconverting xarray objects to NumPy arrays (e.g., with \u001b[39m\u001b[33m\"\u001b[39m\n\u001b[32m     79\u001b[39m         \u001b[33m\"\u001b[39m\u001b[33m`.values`).\u001b[39m\u001b[33m\"\u001b[39m\n\u001b[32m     80\u001b[39m     )\n\u001b[32m     82\u001b[39m join = dataset_join = OPTIONS[\u001b[33m\"\u001b[39m\u001b[33marithmetic_join\u001b[39m\u001b[33m\"\u001b[39m]\n\u001b[32m---> \u001b[39m\u001b[32m84\u001b[39m \u001b[38;5;28;01mreturn\u001b[39;00m \u001b[43mapply_ufunc\u001b[49m\u001b[43m(\u001b[49m\n\u001b[32m     85\u001b[39m \u001b[43m    \u001b[49m\u001b[43mufunc\u001b[49m\u001b[43m,\u001b[49m\n\u001b[32m     86\u001b[39m \u001b[43m    \u001b[49m\u001b[43m*\u001b[49m\u001b[43minputs\u001b[49m\u001b[43m,\u001b[49m\n\u001b[32m     87\u001b[39m \u001b[43m    \u001b[49m\u001b[43minput_core_dims\u001b[49m\u001b[43m=\u001b[49m\u001b[43m(\u001b[49m\u001b[43m(\u001b[49m\u001b[43m)\u001b[49m\u001b[43m,\u001b[49m\u001b[43m)\u001b[49m\u001b[43m \u001b[49m\u001b[43m*\u001b[49m\u001b[43m \u001b[49m\u001b[43mufunc\u001b[49m\u001b[43m.\u001b[49m\u001b[43mnin\u001b[49m\u001b[43m,\u001b[49m\n\u001b[32m     88\u001b[39m \u001b[43m    \u001b[49m\u001b[43moutput_core_dims\u001b[49m\u001b[43m=\u001b[49m\u001b[43m(\u001b[49m\u001b[43m(\u001b[49m\u001b[43m)\u001b[49m\u001b[43m,\u001b[49m\u001b[43m)\u001b[49m\u001b[43m \u001b[49m\u001b[43m*\u001b[49m\u001b[43m \u001b[49m\u001b[43mufunc\u001b[49m\u001b[43m.\u001b[49m\u001b[43mnout\u001b[49m\u001b[43m,\u001b[49m\n\u001b[32m     89\u001b[39m \u001b[43m    \u001b[49m\u001b[43mjoin\u001b[49m\u001b[43m=\u001b[49m\u001b[43mjoin\u001b[49m\u001b[43m,\u001b[49m\n\u001b[32m     90\u001b[39m \u001b[43m    \u001b[49m\u001b[43mdataset_join\u001b[49m\u001b[43m=\u001b[49m\u001b[43mdataset_join\u001b[49m\u001b[43m,\u001b[49m\n\u001b[32m     91\u001b[39m \u001b[43m    \u001b[49m\u001b[43mdataset_fill_value\u001b[49m\u001b[43m=\u001b[49m\u001b[43mnp\u001b[49m\u001b[43m.\u001b[49m\u001b[43mnan\u001b[49m\u001b[43m,\u001b[49m\n\u001b[32m     92\u001b[39m \u001b[43m    \u001b[49m\u001b[43mkwargs\u001b[49m\u001b[43m=\u001b[49m\u001b[43mkwargs\u001b[49m\u001b[43m,\u001b[49m\n\u001b[32m     93\u001b[39m \u001b[43m    \u001b[49m\u001b[43mdask\u001b[49m\u001b[43m=\u001b[49m\u001b[33;43m\"\u001b[39;49m\u001b[33;43mallowed\u001b[39;49m\u001b[33;43m\"\u001b[39;49m\u001b[43m,\u001b[49m\n\u001b[32m     94\u001b[39m \u001b[43m    \u001b[49m\u001b[43mkeep_attrs\u001b[49m\u001b[43m=\u001b[49m\u001b[43m_get_keep_attrs\u001b[49m\u001b[43m(\u001b[49m\u001b[43mdefault\u001b[49m\u001b[43m=\u001b[49m\u001b[38;5;28;43;01mTrue\u001b[39;49;00m\u001b[43m)\u001b[49m\u001b[43m,\u001b[49m\n\u001b[32m     95\u001b[39m \u001b[43m\u001b[49m\u001b[43m)\u001b[49m\n",
      "\u001b[36mFile \u001b[39m\u001b[32m~/opt/anaconda3/envs/metanalysis/lib/python3.12/site-packages/xarray/computation/apply_ufunc.py:1268\u001b[39m, in \u001b[36mapply_ufunc\u001b[39m\u001b[34m(func, input_core_dims, output_core_dims, exclude_dims, vectorize, join, dataset_join, dataset_fill_value, keep_attrs, kwargs, dask, output_dtypes, output_sizes, meta, dask_gufunc_kwargs, on_missing_core_dim, *args)\u001b[39m\n\u001b[32m   1266\u001b[39m \u001b[38;5;66;03m# feed DataArray apply_variable_ufunc through apply_dataarray_vfunc\u001b[39;00m\n\u001b[32m   1267\u001b[39m \u001b[38;5;28;01melif\u001b[39;00m \u001b[38;5;28many\u001b[39m(\u001b[38;5;28misinstance\u001b[39m(a, DataArray) \u001b[38;5;28;01mfor\u001b[39;00m a \u001b[38;5;129;01min\u001b[39;00m args):\n\u001b[32m-> \u001b[39m\u001b[32m1268\u001b[39m     \u001b[38;5;28;01mreturn\u001b[39;00m \u001b[43mapply_dataarray_vfunc\u001b[49m\u001b[43m(\u001b[49m\n\u001b[32m   1269\u001b[39m \u001b[43m        \u001b[49m\u001b[43mvariables_vfunc\u001b[49m\u001b[43m,\u001b[49m\n\u001b[32m   1270\u001b[39m \u001b[43m        \u001b[49m\u001b[43m*\u001b[49m\u001b[43margs\u001b[49m\u001b[43m,\u001b[49m\n\u001b[32m   1271\u001b[39m \u001b[43m        \u001b[49m\u001b[43msignature\u001b[49m\u001b[43m=\u001b[49m\u001b[43msignature\u001b[49m\u001b[43m,\u001b[49m\n\u001b[32m   1272\u001b[39m \u001b[43m        \u001b[49m\u001b[43mjoin\u001b[49m\u001b[43m=\u001b[49m\u001b[43mjoin\u001b[49m\u001b[43m,\u001b[49m\n\u001b[32m   1273\u001b[39m \u001b[43m        \u001b[49m\u001b[43mexclude_dims\u001b[49m\u001b[43m=\u001b[49m\u001b[43mexclude_dims\u001b[49m\u001b[43m,\u001b[49m\n\u001b[32m   1274\u001b[39m \u001b[43m        \u001b[49m\u001b[43mkeep_attrs\u001b[49m\u001b[43m=\u001b[49m\u001b[43mkeep_attrs\u001b[49m\u001b[43m,\u001b[49m\n\u001b[32m   1275\u001b[39m \u001b[43m    \u001b[49m\u001b[43m)\u001b[49m\n\u001b[32m   1276\u001b[39m \u001b[38;5;66;03m# feed Variables directly through apply_variable_ufunc\u001b[39;00m\n\u001b[32m   1277\u001b[39m \u001b[38;5;28;01melif\u001b[39;00m \u001b[38;5;28many\u001b[39m(\u001b[38;5;28misinstance\u001b[39m(a, Variable) \u001b[38;5;28;01mfor\u001b[39;00m a \u001b[38;5;129;01min\u001b[39;00m args):\n",
      "\u001b[36mFile \u001b[39m\u001b[32m~/opt/anaconda3/envs/metanalysis/lib/python3.12/site-packages/xarray/computation/apply_ufunc.py:310\u001b[39m, in \u001b[36mapply_dataarray_vfunc\u001b[39m\u001b[34m(func, signature, join, exclude_dims, keep_attrs, *args)\u001b[39m\n\u001b[32m    305\u001b[39m result_coords, result_indexes = build_output_coords_and_indexes(\n\u001b[32m    306\u001b[39m     args, signature, exclude_dims, combine_attrs=keep_attrs\n\u001b[32m    307\u001b[39m )\n\u001b[32m    309\u001b[39m data_vars = [\u001b[38;5;28mgetattr\u001b[39m(a, \u001b[33m\"\u001b[39m\u001b[33mvariable\u001b[39m\u001b[33m\"\u001b[39m, a) \u001b[38;5;28;01mfor\u001b[39;00m a \u001b[38;5;129;01min\u001b[39;00m args]\n\u001b[32m--> \u001b[39m\u001b[32m310\u001b[39m result_var = \u001b[43mfunc\u001b[49m\u001b[43m(\u001b[49m\u001b[43m*\u001b[49m\u001b[43mdata_vars\u001b[49m\u001b[43m)\u001b[49m\n\u001b[32m    312\u001b[39m out: \u001b[38;5;28mtuple\u001b[39m[DataArray, ...] | DataArray\n\u001b[32m    313\u001b[39m \u001b[38;5;28;01mif\u001b[39;00m signature.num_outputs > \u001b[32m1\u001b[39m:\n",
      "\u001b[36mFile \u001b[39m\u001b[32m~/opt/anaconda3/envs/metanalysis/lib/python3.12/site-packages/xarray/computation/apply_ufunc.py:846\u001b[39m, in \u001b[36mapply_variable_ufunc\u001b[39m\u001b[34m(func, signature, exclude_dims, dask, output_dtypes, vectorize, keep_attrs, dask_gufunc_kwargs, *args)\u001b[39m\n\u001b[32m    844\u001b[39m data = as_compatible_data(data)\n\u001b[32m    845\u001b[39m \u001b[38;5;28;01mif\u001b[39;00m data.ndim != \u001b[38;5;28mlen\u001b[39m(dims):\n\u001b[32m--> \u001b[39m\u001b[32m846\u001b[39m     \u001b[38;5;28;01mraise\u001b[39;00m \u001b[38;5;167;01mValueError\u001b[39;00m(\n\u001b[32m    847\u001b[39m         \u001b[33m\"\u001b[39m\u001b[33mapplied function returned data with an unexpected \u001b[39m\u001b[33m\"\u001b[39m\n\u001b[32m    848\u001b[39m         \u001b[33mf\u001b[39m\u001b[33m\"\u001b[39m\u001b[33mnumber of dimensions. Received \u001b[39m\u001b[38;5;132;01m{\u001b[39;00mdata.ndim\u001b[38;5;132;01m}\u001b[39;00m\u001b[33m dimension(s) but \u001b[39m\u001b[33m\"\u001b[39m\n\u001b[32m    849\u001b[39m         \u001b[33mf\u001b[39m\u001b[33m\"\u001b[39m\u001b[33mexpected \u001b[39m\u001b[38;5;132;01m{\u001b[39;00m\u001b[38;5;28mlen\u001b[39m(dims)\u001b[38;5;132;01m}\u001b[39;00m\u001b[33m dimensions with names \u001b[39m\u001b[38;5;132;01m{\u001b[39;00mdims\u001b[38;5;132;01m!r}\u001b[39;00m\u001b[33m, from:\u001b[39m\u001b[38;5;130;01m\\n\u001b[39;00m\u001b[38;5;130;01m\\n\u001b[39;00m\u001b[33m\"\u001b[39m\n\u001b[32m    850\u001b[39m         \u001b[33mf\u001b[39m\u001b[33m\"\u001b[39m\u001b[38;5;132;01m{\u001b[39;00mshort_array_repr(data)\u001b[38;5;132;01m}\u001b[39;00m\u001b[33m\"\u001b[39m\n\u001b[32m    851\u001b[39m     )\n\u001b[32m    853\u001b[39m var = Variable(dims, data, fastpath=\u001b[38;5;28;01mTrue\u001b[39;00m)\n\u001b[32m    854\u001b[39m \u001b[38;5;28;01mfor\u001b[39;00m dim, new_size \u001b[38;5;129;01min\u001b[39;00m var.sizes.items():\n",
      "\u001b[31mValueError\u001b[39m: applied function returned data with an unexpected number of dimensions. Received 3 dimension(s) but expected 1 dimensions with names ('latitude',), from:\n\narray([[[ 2.851191e+17,           nan, ...,           nan,           nan]],\n\n       [[ 1.001013e+17,           nan, ...,           nan,           nan]],\n\n       ...,\n\n       [[-1.974042e+16,           nan, ...,           nan,           nan]],\n\n       [[-7.002551e+16,           nan, ...,           nan,           nan]]],\n      shape=(72, 1, 121))"
     ]
    }
   ],
   "source": [
    "import numpy as np\n",
    "\n",
    "Re = 6.371e6  # Earth radius in meters\n",
    "omega = 7.2921e-5  # Earth's rotation rate\n",
    "beta = (2 * omega / Re) * np.cos(np.radians(lat))\n",
    "\n",
    "# d²u/dφ² in spherical coordinates (approximate finite difference)\n",
    "phi = np.radians(lat)\n",
    "cosphi = np.cos(phi)\n",
    "\n",
    "dphi = np.gradient(phi)\n",
    "d2u_dphi2 = np.gradient(np.gradient(u_zm.values, dphi, axis=-1), dphi, axis=-1)\n",
    "\n",
    "q_y = beta - d2u_dphi2 / (Re**2 * cosphi**2)"
   ]
  },
  {
   "cell_type": "markdown",
   "metadata": {},
   "source": [
    "Computer the refractive index $ n^2 $\n",
    "\n",
    "$$ n^2 = \\frac{q_{y}}{\\bar(u)}-\\frac{s^2}{a^2\\cos^2\\phi} $$"
   ]
  },
  {
   "cell_type": "code",
   "execution_count": null,
   "metadata": {},
   "outputs": [],
   "source": [
    "s = 1  # Zonal wavenumber\n",
    "cos2phi = np.cos(phi)**2\n",
    "\n",
    "n_squared = (q_y / u_zm) - (s**2 / (Re**2 * cos2phi))"
   ]
  },
  {
   "cell_type": "markdown",
   "metadata": {},
   "source": [
    "Plot it. Regions of $ n^2 > 0 $ : Rossby waves of wavenumber s can propagate\n",
    "Contours where $ n^2 = 0 $ : Turing surfaces, act as natural boundaries for waveguides (often aligned with jet streams)"
   ]
  },
  {
   "cell_type": "code",
   "execution_count": null,
   "metadata": {},
   "outputs": [],
   "source": [
    "import matplotlib.pyplot as plt\n",
    "\n",
    "# Choose a specific time slice or average over time\n",
    "n2 = n_squared.sel(time='2020-01-01')  # or n_squared.mean(dim='time')\n",
    "\n",
    "plt.contourf(lat, p/100, n2.T, levels=np.linspace(-1e-10, 1e-10, 21), cmap='coolwarm', extend='both')\n",
    "plt.contour(lat, p/100, n2.T, levels=[0], colors='black', linewidths=1.5)  # waveguide boundary\n",
    "plt.gca().invert_yaxis()\n",
    "plt.xlabel('Latitude')\n",
    "plt.ylabel('Pressure (hPa)')\n",
    "plt.title(f'Refractive Index Squared $n^2$ (s={s}) – ERA5')\n",
    "plt.colorbar(label='$n^2$ (1/m²)')\n",
    "plt.grid(True)\n",
    "plt.show()"
   ]
  },
  {
   "cell_type": "markdown",
   "metadata": {},
   "source": [
    "Full script to load data and compute all terms.\n",
    "\n",
    "The script assumes you have a NetCDF file (e.g., ERA5_zonal_wind_temp.nc) with at least:\n",
    "\t•\tu(time, level, lat, lon) – Zonal wind\n",
    "\t•\tt(time, level, lat, lon) – Temperature\n",
    "\n",
    "You can obtain this from Copernicus Climate Data Store or another provider like NOAA.\n",
    "\n",
    "\t•\tPositive n^2 → wave can propagate\n",
    "\t•\tZero n^2 → turning surfaces / waveguide boundaries\n",
    "\t•\tNegative n^2 → evanescent zone (wave reflection or decay)\n",
    "\n",
    "Regions with positive n^2 bounded by zero contours are waveguides — common near jet streams or in the stratosphere."
   ]
  },
  {
   "cell_type": "code",
   "execution_count": 29,
   "metadata": {},
   "outputs": [
    {
     "ename": "AttributeError",
     "evalue": "'DataArray' object has no attribute 'time'",
     "output_type": "error",
     "traceback": [
      "\u001b[31m---------------------------------------------------------------------------\u001b[39m",
      "\u001b[31mAttributeError\u001b[39m                            Traceback (most recent call last)",
      "\u001b[36mCell\u001b[39m\u001b[36m \u001b[39m\u001b[32mIn[29]\u001b[39m\u001b[32m, line 35\u001b[39m\n\u001b[32m     31\u001b[39m p_da = xr.DataArray(p_levels, coords={\u001b[33m\"\u001b[39m\u001b[33mpressure_level\u001b[39m\u001b[33m\"\u001b[39m: plev}, dims=[\u001b[33m\"\u001b[39m\u001b[33mpressure_level\u001b[39m\u001b[33m\"\u001b[39m])\n\u001b[32m     33\u001b[39m \u001b[38;5;66;03m# Expand to match [time, pressure_level, latitude]\u001b[39;00m\n\u001b[32m     34\u001b[39m p_expanded = p_da.expand_dims({\n\u001b[32m---> \u001b[39m\u001b[32m35\u001b[39m     \u001b[33m\"\u001b[39m\u001b[33mtime\u001b[39m\u001b[33m\"\u001b[39m: \u001b[43mT_zm\u001b[49m\u001b[43m.\u001b[49m\u001b[43mtime\u001b[49m,\n\u001b[32m     36\u001b[39m     \u001b[33m\"\u001b[39m\u001b[33mlatitude\u001b[39m\u001b[33m\"\u001b[39m: T_zm.latitude\n\u001b[32m     37\u001b[39m }).transpose(\u001b[33m\"\u001b[39m\u001b[33mtime\u001b[39m\u001b[33m\"\u001b[39m, \u001b[33m\"\u001b[39m\u001b[33mpressure_level\u001b[39m\u001b[33m\"\u001b[39m, \u001b[33m\"\u001b[39m\u001b[33mlatitude\u001b[39m\u001b[33m\"\u001b[39m)\n\u001b[32m     39\u001b[39m \u001b[38;5;66;03m# ----------------------------------------\u001b[39;00m\n\u001b[32m     40\u001b[39m \u001b[38;5;66;03m# 4. Compute Potential Temperature\u001b[39;00m\n\u001b[32m     41\u001b[39m \u001b[38;5;66;03m# ----------------------------------------\u001b[39;00m\n\u001b[32m     42\u001b[39m theta = potential_temperature(p_expanded, T_zm)\n",
      "\u001b[36mFile \u001b[39m\u001b[32m~/opt/anaconda3/envs/metanalysis/lib/python3.12/site-packages/xarray/core/common.py:306\u001b[39m, in \u001b[36mAttrAccessMixin.__getattr__\u001b[39m\u001b[34m(self, name)\u001b[39m\n\u001b[32m    304\u001b[39m         \u001b[38;5;28;01mwith\u001b[39;00m suppress(\u001b[38;5;167;01mKeyError\u001b[39;00m):\n\u001b[32m    305\u001b[39m             \u001b[38;5;28;01mreturn\u001b[39;00m source[name]\n\u001b[32m--> \u001b[39m\u001b[32m306\u001b[39m \u001b[38;5;28;01mraise\u001b[39;00m \u001b[38;5;167;01mAttributeError\u001b[39;00m(\n\u001b[32m    307\u001b[39m     \u001b[33mf\u001b[39m\u001b[33m\"\u001b[39m\u001b[38;5;132;01m{\u001b[39;00m\u001b[38;5;28mtype\u001b[39m(\u001b[38;5;28mself\u001b[39m).\u001b[34m__name__\u001b[39m\u001b[38;5;132;01m!r}\u001b[39;00m\u001b[33m object has no attribute \u001b[39m\u001b[38;5;132;01m{\u001b[39;00mname\u001b[38;5;132;01m!r}\u001b[39;00m\u001b[33m\"\u001b[39m\n\u001b[32m    308\u001b[39m )\n",
      "\u001b[31mAttributeError\u001b[39m: 'DataArray' object has no attribute 'time'"
     ]
    }
   ],
   "source": [
    "import xarray as xr\n",
    "import numpy as np\n",
    "import matplotlib.pyplot as plt\n",
    "from metpy.calc import potential_temperature, first_derivative\n",
    "from metpy.units import units\n",
    "\n",
    "# ----------------------------------------\n",
    "# 1. Load ERA5 Data and Attach Units\n",
    "# ----------------------------------------\n",
    "ds = xr.open_dataset('/Users/ryaneagan/Downloads/refractive_test.nc')\n",
    "ds = ds.metpy.parse_cf()  # Attach units from CF metadata\n",
    "\n",
    "# Use correct dimension name: 'pressure_level'\n",
    "u = ds['u']  # Zonal wind (m/s)\n",
    "T = ds['t']  # Temperature (K)\n",
    "lat = ds['latitude']\n",
    "plev = ds['pressure_level']  # Pressure levels (in hPa)\n",
    "\n",
    "# ----------------------------------------\n",
    "# 2. Compute Zonal Means\n",
    "# ----------------------------------------\n",
    "u_zm = u.mean(dim='longitude')  # shape: [time, level, lat]\n",
    "T_zm = T.mean(dim='longitude')\n",
    "\n",
    "# ----------------------------------------\n",
    "# 3. Prepare Pressure as xarray DataArray with Units\n",
    "# ----------------------------------------\n",
    "p_levels = plev.values * 100.0 * units.pascal  # convert hPa → Pa\n",
    "\n",
    "# Create a 1D DataArray with units\n",
    "p_da = xr.DataArray(p_levels, coords={\"pressure_level\": plev}, dims=[\"pressure_level\"])\n",
    "\n",
    "# Expand to match [time, pressure_level, latitude]\n",
    "p_expanded = p_da.expand_dims({\n",
    "    \"time\": T_zm.time,\n",
    "    \"latitude\": T_zm.latitude\n",
    "}).transpose(\"time\", \"pressure_level\", \"latitude\")\n",
    "\n",
    "# ----------------------------------------\n",
    "# 4. Compute Potential Temperature\n",
    "# ----------------------------------------\n",
    "theta = potential_temperature(p_expanded, T_zm)\n",
    "\n",
    "# ----------------------------------------\n",
    "# 5. Compute Vertical Derivatives\n",
    "# ----------------------------------------\n",
    "dtheta_dp = first_derivative(theta, p_levels, axis=1)\n",
    "du_dp = first_derivative(u_zm, p_levels, axis=1)\n",
    "\n",
    "# ----------------------------------------\n",
    "# 6. Compute Meridional PV Gradient q_y\n",
    "# ----------------------------------------\n",
    "Re = 6.371e6  # Earth radius [m]\n",
    "omega = 7.2921e-5  # Earth's rotation rate [rad/s]\n",
    "phi = np.radians(lat)\n",
    "cosphi = np.cos(phi)\n",
    "cos2phi = cosphi ** 2\n",
    "beta = (2 * omega / Re) * cosphi\n",
    "\n",
    "# Compute ∂²u/∂φ² (second meridional derivative)\n",
    "dphi = np.gradient(phi)\n",
    "d2u_dphi2 = np.gradient(np.gradient(u_zm, dphi, axis=-1), dphi, axis=-1)\n",
    "\n",
    "# First part of q_y\n",
    "q_y = beta - d2u_dphi2 / (Re ** 2 * cos2phi)\n",
    "\n",
    "# Compute f²/∂θ * ∂u/∂p vertical term\n",
    "f = 2 * omega * np.sin(phi)\n",
    "f2 = f ** 2\n",
    "strat_term = np.zeros_like(u_zm)\n",
    "\n",
    "for i, lat_i in enumerate(lat):\n",
    "    f2_over_dtheta = f2[i] / dtheta_dp[:, :, i]\n",
    "    term = np.gradient(f2_over_dtheta * du_dp[:, :, i], p_levels * units.pascal, axis=0)\n",
    "    strat_term[:, :, i] = term\n",
    "\n",
    "q_y += strat_term\n",
    "\n",
    "# ----------------------------------------\n",
    "# 7. Compute Refractive Index Squared n²\n",
    "# ----------------------------------------\n",
    "s = 1  # zonal wavenumber\n",
    "n_squared = (q_y / u_zm) - (s ** 2 / (Re ** 2 * cos2phi))\n",
    "\n",
    "# Mask regions where u ≈ 0 to avoid division issues\n",
    "n_squared = n_squared.where(np.abs(u_zm) > 1.0)\n",
    "\n",
    "# ----------------------------------------\n",
    "# 8. Plot n² (Latitude–Pressure Diagram)\n",
    "# ----------------------------------------\n",
    "n2_plot = n_squared.sel(time=n_squared.time[0])  # Choose first time or average\n",
    "\n",
    "plt.figure(figsize=(10, 6))\n",
    "levels = np.linspace(-1e-10, 1e-10, 21)\n",
    "\n",
    "cf = plt.contourf(\n",
    "    lat,\n",
    "    plev,\n",
    "    n2_plot.T,\n",
    "    levels=levels,\n",
    "    cmap='RdBu_r',\n",
    "    extend='both'\n",
    ")\n",
    "\n",
    "# Plot n² = 0 line — waveguide boundary\n",
    "plt.contour(\n",
    "    lat,\n",
    "    plev,\n",
    "    n2_plot.T,\n",
    "    levels=[0],\n",
    "    colors='black',\n",
    "    linewidths=1.2\n",
    ")\n",
    "\n",
    "plt.gca().invert_yaxis()\n",
    "plt.title(r\"Refractive Index Squared $n^2$ for Stationary Rossby Waves (s=1)\")\n",
    "plt.xlabel(\"Latitude (°)\")\n",
    "plt.ylabel(\"Pressure (hPa)\")\n",
    "plt.colorbar(cf, label=r\"$n^2$ (m$^{-2}$)\")\n",
    "plt.grid(True)\n",
    "plt.tight_layout()\n",
    "plt.show()"
   ]
  },
  {
   "cell_type": "markdown",
   "metadata": {},
   "source": []
  }
 ],
 "metadata": {
  "kernelspec": {
   "display_name": "metanalysis",
   "language": "python",
   "name": "python3"
  },
  "language_info": {
   "codemirror_mode": {
    "name": "ipython",
    "version": 3
   },
   "file_extension": ".py",
   "mimetype": "text/x-python",
   "name": "python",
   "nbconvert_exporter": "python",
   "pygments_lexer": "ipython3",
   "version": "3.12.9"
  }
 },
 "nbformat": 4,
 "nbformat_minor": 2
}
