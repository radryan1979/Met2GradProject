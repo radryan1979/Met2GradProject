{
 "cells": [
  {
   "cell_type": "markdown",
   "id": "6461a7f2",
   "metadata": {},
   "source": [
    "Notebook to download the CMIP5 datasets\n"
   ]
  },
  {
   "cell_type": "code",
   "execution_count": 2,
   "id": "2eff02c6",
   "metadata": {},
   "outputs": [],
   "source": [
    "import cdsapi\n",
    "client = cdsapi.Client()\n",
    "\n",
    "base_file_path = '/Volumes/DataDrive/Met2GradData/'"
   ]
  },
  {
   "cell_type": "code",
   "execution_count": 3,
   "id": "d21a76ec",
   "metadata": {},
   "outputs": [
    {
     "name": "stderr",
     "output_type": "stream",
     "text": [
      "2025-05-01 15:47:38,524 INFO Sending request to https://cds.climate.copernicus.eu/api/v2/resources/projections-cmip5-daily-pressure-levels\n"
     ]
    },
    {
     "ename": "Exception",
     "evalue": "Not Found",
     "output_type": "error",
     "traceback": [
      "\u001b[31m---------------------------------------------------------------------------\u001b[39m",
      "\u001b[31mHTTPError\u001b[39m                                 Traceback (most recent call last)",
      "\u001b[36mFile \u001b[39m\u001b[32m~/opt/anaconda3/envs/metanalysis/lib/python3.12/site-packages/cdsapi/api.py:459\u001b[39m, in \u001b[36mClient._api\u001b[39m\u001b[34m(self, url, request, method)\u001b[39m\n\u001b[32m    458\u001b[39m \u001b[38;5;28;01mtry\u001b[39;00m:\n\u001b[32m--> \u001b[39m\u001b[32m459\u001b[39m     \u001b[43mresult\u001b[49m\u001b[43m.\u001b[49m\u001b[43mraise_for_status\u001b[49m\u001b[43m(\u001b[49m\u001b[43m)\u001b[49m\n\u001b[32m    460\u001b[39m     reply = result.json()\n",
      "\u001b[36mFile \u001b[39m\u001b[32m~/opt/anaconda3/envs/metanalysis/lib/python3.12/site-packages/requests/models.py:1024\u001b[39m, in \u001b[36mResponse.raise_for_status\u001b[39m\u001b[34m(self)\u001b[39m\n\u001b[32m   1023\u001b[39m \u001b[38;5;28;01mif\u001b[39;00m http_error_msg:\n\u001b[32m-> \u001b[39m\u001b[32m1024\u001b[39m     \u001b[38;5;28;01mraise\u001b[39;00m HTTPError(http_error_msg, response=\u001b[38;5;28mself\u001b[39m)\n",
      "\u001b[31mHTTPError\u001b[39m: 404 Client Error: Not Found for url: https://cds.climate.copernicus.eu/api/v2/resources/projections-cmip5-daily-pressure-levels",
      "\nDuring handling of the above exception, another exception occurred:\n",
      "\u001b[31mException\u001b[39m                                 Traceback (most recent call last)",
      "\u001b[36mCell\u001b[39m\u001b[36m \u001b[39m\u001b[32mIn[3]\u001b[39m\u001b[32m, line 25\u001b[39m\n\u001b[32m      7\u001b[39m dataset = \u001b[33m\"\u001b[39m\u001b[33mprojections-cmip5-daily-pressure-levels\u001b[39m\u001b[33m\"\u001b[39m\n\u001b[32m      8\u001b[39m request = {\n\u001b[32m      9\u001b[39m     \u001b[33m\"\u001b[39m\u001b[33mexperiment\u001b[39m\u001b[33m\"\u001b[39m: \u001b[33m\"\u001b[39m\u001b[33mrcp_4_5\u001b[39m\u001b[33m\"\u001b[39m,\n\u001b[32m     10\u001b[39m     \u001b[33m\"\u001b[39m\u001b[33mvariable\u001b[39m\u001b[33m\"\u001b[39m: [\n\u001b[32m   (...)\u001b[39m\u001b[32m     22\u001b[39m     ]\n\u001b[32m     23\u001b[39m }\n\u001b[32m---> \u001b[39m\u001b[32m25\u001b[39m \u001b[43mclient\u001b[49m\u001b[43m.\u001b[49m\u001b[43mretrieve\u001b[49m\u001b[43m(\u001b[49m\u001b[43mdataset\u001b[49m\u001b[43m,\u001b[49m\u001b[43m \u001b[49m\u001b[43mrequest\u001b[49m\u001b[43m,\u001b[49m\u001b[43m \u001b[49m\u001b[43mfile\u001b[49m\u001b[43m)\u001b[49m\n",
      "\u001b[36mFile \u001b[39m\u001b[32m~/opt/anaconda3/envs/metanalysis/lib/python3.12/site-packages/cdsapi/api.py:381\u001b[39m, in \u001b[36mClient.retrieve\u001b[39m\u001b[34m(self, name, request, target)\u001b[39m\n\u001b[32m    380\u001b[39m \u001b[38;5;28;01mdef\u001b[39;00m\u001b[38;5;250m \u001b[39m\u001b[34mretrieve\u001b[39m(\u001b[38;5;28mself\u001b[39m, name, request, target=\u001b[38;5;28;01mNone\u001b[39;00m):\n\u001b[32m--> \u001b[39m\u001b[32m381\u001b[39m     result = \u001b[38;5;28;43mself\u001b[39;49m\u001b[43m.\u001b[49m\u001b[43m_api\u001b[49m\u001b[43m(\u001b[49m\u001b[33;43m\"\u001b[39;49m\u001b[38;5;132;43;01m%s\u001b[39;49;00m\u001b[33;43m/resources/\u001b[39;49m\u001b[38;5;132;43;01m%s\u001b[39;49;00m\u001b[33;43m\"\u001b[39;49m\u001b[43m \u001b[49m\u001b[43m%\u001b[49m\u001b[43m \u001b[49m\u001b[43m(\u001b[49m\u001b[38;5;28;43mself\u001b[39;49m\u001b[43m.\u001b[49m\u001b[43murl\u001b[49m\u001b[43m,\u001b[49m\u001b[43m \u001b[49m\u001b[43mname\u001b[49m\u001b[43m)\u001b[49m\u001b[43m,\u001b[49m\u001b[43m \u001b[49m\u001b[43mrequest\u001b[49m\u001b[43m,\u001b[49m\u001b[43m \u001b[49m\u001b[33;43m\"\u001b[39;49m\u001b[33;43mPOST\u001b[39;49m\u001b[33;43m\"\u001b[39;49m\u001b[43m)\u001b[49m\n\u001b[32m    382\u001b[39m     \u001b[38;5;28;01mif\u001b[39;00m target \u001b[38;5;129;01mis\u001b[39;00m \u001b[38;5;129;01mnot\u001b[39;00m \u001b[38;5;28;01mNone\u001b[39;00m:\n\u001b[32m    383\u001b[39m         result.download(target)\n",
      "\u001b[36mFile \u001b[39m\u001b[32m~/opt/anaconda3/envs/metanalysis/lib/python3.12/site-packages/cdsapi/api.py:481\u001b[39m, in \u001b[36mClient._api\u001b[39m\u001b[34m(self, url, request, method)\u001b[39m\n\u001b[32m    476\u001b[39m             e.append(\n\u001b[32m    477\u001b[39m                 \u001b[33m\"\u001b[39m\u001b[33mTo access this resource, you first need to accept the terms\u001b[39m\u001b[33m\"\u001b[39m\n\u001b[32m    478\u001b[39m                 \u001b[33m\"\u001b[39m\u001b[33mof \u001b[39m\u001b[33m'\u001b[39m\u001b[38;5;132;01m%s\u001b[39;00m\u001b[33m'\u001b[39m\u001b[33m at \u001b[39m\u001b[38;5;132;01m%s\u001b[39;00m\u001b[33m\"\u001b[39m % (t[\u001b[33m\"\u001b[39m\u001b[33mtitle\u001b[39m\u001b[33m\"\u001b[39m], t[\u001b[33m\"\u001b[39m\u001b[33murl\u001b[39m\u001b[33m\"\u001b[39m])\n\u001b[32m    479\u001b[39m             )\n\u001b[32m    480\u001b[39m         error = \u001b[33m\"\u001b[39m\u001b[33m. \u001b[39m\u001b[33m\"\u001b[39m.join(e)\n\u001b[32m--> \u001b[39m\u001b[32m481\u001b[39m     \u001b[38;5;28;01mraise\u001b[39;00m \u001b[38;5;167;01mException\u001b[39;00m(error)\n\u001b[32m    482\u001b[39m \u001b[38;5;28;01melse\u001b[39;00m:\n\u001b[32m    483\u001b[39m     \u001b[38;5;28;01mraise\u001b[39;00m\n",
      "\u001b[31mException\u001b[39m: Not Found"
     ]
    }
   ],
   "source": [
    "'''\n",
    "Download request for RCP 4.5 - CCSM4 (NCAR) r6i1p1\n",
    "'''\n",
    "\n",
    "file = base_file_path + 'rcp45_ccsm4.nc'\n",
    "\n",
    "dataset = \"projections-cmip5-daily-pressure-levels\"\n",
    "request = {\n",
    "    \"experiment\": \"rcp_4_5\",\n",
    "    \"variable\": [\n",
    "        \"geopotential_height\",\n",
    "        \"temperature\",\n",
    "        \"u_component_of_wind\",\n",
    "        \"v_component_of_wind\"\n",
    "    ],\n",
    "    \"model\": \"ccsm4\",\n",
    "    \"ensemble_member\": \"r6i1p1\",\n",
    "    \"period\": [\n",
    "        \"20300101-20341231\",\n",
    "        \"20400101-20441231\",\n",
    "        \"20700101-20741231\"\n",
    "    ]\n",
    "}\n",
    "\n",
    "client.retrieve(dataset, request, file)"
   ]
  },
  {
   "cell_type": "code",
   "execution_count": 4,
   "id": "a1970d52",
   "metadata": {},
   "outputs": [
    {
     "name": "stderr",
     "output_type": "stream",
     "text": [
      "2025-05-01 15:50:39,105 INFO Sending request to https://cds.climate.copernicus.eu/api/v2/resources/projections-cmip5-daily-pressure-levels\n"
     ]
    },
    {
     "ename": "Exception",
     "evalue": "Not Found",
     "output_type": "error",
     "traceback": [
      "\u001b[31m---------------------------------------------------------------------------\u001b[39m",
      "\u001b[31mHTTPError\u001b[39m                                 Traceback (most recent call last)",
      "\u001b[36mFile \u001b[39m\u001b[32m~/opt/anaconda3/envs/metanalysis/lib/python3.12/site-packages/cdsapi/api.py:459\u001b[39m, in \u001b[36mClient._api\u001b[39m\u001b[34m(self, url, request, method)\u001b[39m\n\u001b[32m    458\u001b[39m \u001b[38;5;28;01mtry\u001b[39;00m:\n\u001b[32m--> \u001b[39m\u001b[32m459\u001b[39m     \u001b[43mresult\u001b[49m\u001b[43m.\u001b[49m\u001b[43mraise_for_status\u001b[49m\u001b[43m(\u001b[49m\u001b[43m)\u001b[49m\n\u001b[32m    460\u001b[39m     reply = result.json()\n",
      "\u001b[36mFile \u001b[39m\u001b[32m~/opt/anaconda3/envs/metanalysis/lib/python3.12/site-packages/requests/models.py:1024\u001b[39m, in \u001b[36mResponse.raise_for_status\u001b[39m\u001b[34m(self)\u001b[39m\n\u001b[32m   1023\u001b[39m \u001b[38;5;28;01mif\u001b[39;00m http_error_msg:\n\u001b[32m-> \u001b[39m\u001b[32m1024\u001b[39m     \u001b[38;5;28;01mraise\u001b[39;00m HTTPError(http_error_msg, response=\u001b[38;5;28mself\u001b[39m)\n",
      "\u001b[31mHTTPError\u001b[39m: 404 Client Error: Not Found for url: https://cds.climate.copernicus.eu/api/v2/resources/projections-cmip5-daily-pressure-levels",
      "\nDuring handling of the above exception, another exception occurred:\n",
      "\u001b[31mException\u001b[39m                                 Traceback (most recent call last)",
      "\u001b[36mCell\u001b[39m\u001b[36m \u001b[39m\u001b[32mIn[4]\u001b[39m\u001b[32m, line 24\u001b[39m\n\u001b[32m      8\u001b[39m request = {\n\u001b[32m      9\u001b[39m     \u001b[33m\"\u001b[39m\u001b[33mexperiment\u001b[39m\u001b[33m\"\u001b[39m: \u001b[33m\"\u001b[39m\u001b[33mrcp_4_5\u001b[39m\u001b[33m\"\u001b[39m,\n\u001b[32m     10\u001b[39m     \u001b[33m\"\u001b[39m\u001b[33mvariable\u001b[39m\u001b[33m\"\u001b[39m: [\n\u001b[32m   (...)\u001b[39m\u001b[32m     20\u001b[39m     ]\n\u001b[32m     21\u001b[39m }\n\u001b[32m     23\u001b[39m client = cdsapi.Client()\n\u001b[32m---> \u001b[39m\u001b[32m24\u001b[39m \u001b[43mclient\u001b[49m\u001b[43m.\u001b[49m\u001b[43mretrieve\u001b[49m\u001b[43m(\u001b[49m\u001b[43mdataset\u001b[49m\u001b[43m,\u001b[49m\u001b[43m \u001b[49m\u001b[43mrequest\u001b[49m\u001b[43m)\u001b[49m.download(file)\n",
      "\u001b[36mFile \u001b[39m\u001b[32m~/opt/anaconda3/envs/metanalysis/lib/python3.12/site-packages/cdsapi/api.py:381\u001b[39m, in \u001b[36mClient.retrieve\u001b[39m\u001b[34m(self, name, request, target)\u001b[39m\n\u001b[32m    380\u001b[39m \u001b[38;5;28;01mdef\u001b[39;00m\u001b[38;5;250m \u001b[39m\u001b[34mretrieve\u001b[39m(\u001b[38;5;28mself\u001b[39m, name, request, target=\u001b[38;5;28;01mNone\u001b[39;00m):\n\u001b[32m--> \u001b[39m\u001b[32m381\u001b[39m     result = \u001b[38;5;28;43mself\u001b[39;49m\u001b[43m.\u001b[49m\u001b[43m_api\u001b[49m\u001b[43m(\u001b[49m\u001b[33;43m\"\u001b[39;49m\u001b[38;5;132;43;01m%s\u001b[39;49;00m\u001b[33;43m/resources/\u001b[39;49m\u001b[38;5;132;43;01m%s\u001b[39;49;00m\u001b[33;43m\"\u001b[39;49m\u001b[43m \u001b[49m\u001b[43m%\u001b[49m\u001b[43m \u001b[49m\u001b[43m(\u001b[49m\u001b[38;5;28;43mself\u001b[39;49m\u001b[43m.\u001b[49m\u001b[43murl\u001b[49m\u001b[43m,\u001b[49m\u001b[43m \u001b[49m\u001b[43mname\u001b[49m\u001b[43m)\u001b[49m\u001b[43m,\u001b[49m\u001b[43m \u001b[49m\u001b[43mrequest\u001b[49m\u001b[43m,\u001b[49m\u001b[43m \u001b[49m\u001b[33;43m\"\u001b[39;49m\u001b[33;43mPOST\u001b[39;49m\u001b[33;43m\"\u001b[39;49m\u001b[43m)\u001b[49m\n\u001b[32m    382\u001b[39m     \u001b[38;5;28;01mif\u001b[39;00m target \u001b[38;5;129;01mis\u001b[39;00m \u001b[38;5;129;01mnot\u001b[39;00m \u001b[38;5;28;01mNone\u001b[39;00m:\n\u001b[32m    383\u001b[39m         result.download(target)\n",
      "\u001b[36mFile \u001b[39m\u001b[32m~/opt/anaconda3/envs/metanalysis/lib/python3.12/site-packages/cdsapi/api.py:481\u001b[39m, in \u001b[36mClient._api\u001b[39m\u001b[34m(self, url, request, method)\u001b[39m\n\u001b[32m    476\u001b[39m             e.append(\n\u001b[32m    477\u001b[39m                 \u001b[33m\"\u001b[39m\u001b[33mTo access this resource, you first need to accept the terms\u001b[39m\u001b[33m\"\u001b[39m\n\u001b[32m    478\u001b[39m                 \u001b[33m\"\u001b[39m\u001b[33mof \u001b[39m\u001b[33m'\u001b[39m\u001b[38;5;132;01m%s\u001b[39;00m\u001b[33m'\u001b[39m\u001b[33m at \u001b[39m\u001b[38;5;132;01m%s\u001b[39;00m\u001b[33m\"\u001b[39m % (t[\u001b[33m\"\u001b[39m\u001b[33mtitle\u001b[39m\u001b[33m\"\u001b[39m], t[\u001b[33m\"\u001b[39m\u001b[33murl\u001b[39m\u001b[33m\"\u001b[39m])\n\u001b[32m    479\u001b[39m             )\n\u001b[32m    480\u001b[39m         error = \u001b[33m\"\u001b[39m\u001b[33m. \u001b[39m\u001b[33m\"\u001b[39m.join(e)\n\u001b[32m--> \u001b[39m\u001b[32m481\u001b[39m     \u001b[38;5;28;01mraise\u001b[39;00m \u001b[38;5;167;01mException\u001b[39;00m(error)\n\u001b[32m    482\u001b[39m \u001b[38;5;28;01melse\u001b[39;00m:\n\u001b[32m    483\u001b[39m     \u001b[38;5;28;01mraise\u001b[39;00m\n",
      "\u001b[31mException\u001b[39m: Not Found"
     ]
    }
   ],
   "source": [
    "'''\n",
    "Download request for RCP 4.5 - GFDL-CM3 (NOAA) r1i1p1\n",
    "'''\n",
    "\n",
    "file = base_file_path + 'rcp45_gfdlcm3.nc'\n",
    "\n",
    "dataset = \"projections-cmip5-daily-pressure-levels\"\n",
    "request = {\n",
    "    \"experiment\": \"rcp_4_5\",\n",
    "    \"variable\": [\n",
    "        \"geopotential_height\",\n",
    "        \"temperature\"\n",
    "    ],\n",
    "    \"model\": \"gfdl_cm3\",\n",
    "    \"ensemble_member\": \"r1i1p1\",\n",
    "    \"period\": [\n",
    "        \"20310101-20351231\",\n",
    "        \"20410101-20451231\",\n",
    "        \"20710101-20751231\"\n",
    "    ]\n",
    "}\n",
    "\n",
    "client = cdsapi.Client()\n",
    "client.retrieve(dataset, request).download(file)\n"
   ]
  },
  {
   "cell_type": "code",
   "execution_count": 5,
   "id": "1df523ca",
   "metadata": {},
   "outputs": [
    {
     "name": "stderr",
     "output_type": "stream",
     "text": [
      "2025-05-01 17:17:55,910 INFO Sending request to https://cds.climate.copernicus.eu/api/v2/resources/projections-cmip5-daily-pressure-levels\n"
     ]
    },
    {
     "ename": "Exception",
     "evalue": "Not Found",
     "output_type": "error",
     "traceback": [
      "\u001b[31m---------------------------------------------------------------------------\u001b[39m",
      "\u001b[31mHTTPError\u001b[39m                                 Traceback (most recent call last)",
      "\u001b[36mFile \u001b[39m\u001b[32m~/opt/anaconda3/envs/metanalysis/lib/python3.12/site-packages/cdsapi/api.py:459\u001b[39m, in \u001b[36mClient._api\u001b[39m\u001b[34m(self, url, request, method)\u001b[39m\n\u001b[32m    458\u001b[39m \u001b[38;5;28;01mtry\u001b[39;00m:\n\u001b[32m--> \u001b[39m\u001b[32m459\u001b[39m     \u001b[43mresult\u001b[49m\u001b[43m.\u001b[49m\u001b[43mraise_for_status\u001b[49m\u001b[43m(\u001b[49m\u001b[43m)\u001b[49m\n\u001b[32m    460\u001b[39m     reply = result.json()\n",
      "\u001b[36mFile \u001b[39m\u001b[32m~/opt/anaconda3/envs/metanalysis/lib/python3.12/site-packages/requests/models.py:1024\u001b[39m, in \u001b[36mResponse.raise_for_status\u001b[39m\u001b[34m(self)\u001b[39m\n\u001b[32m   1023\u001b[39m \u001b[38;5;28;01mif\u001b[39;00m http_error_msg:\n\u001b[32m-> \u001b[39m\u001b[32m1024\u001b[39m     \u001b[38;5;28;01mraise\u001b[39;00m HTTPError(http_error_msg, response=\u001b[38;5;28mself\u001b[39m)\n",
      "\u001b[31mHTTPError\u001b[39m: 404 Client Error: Not Found for url: https://cds.climate.copernicus.eu/api/v2/resources/projections-cmip5-daily-pressure-levels",
      "\nDuring handling of the above exception, another exception occurred:\n",
      "\u001b[31mException\u001b[39m                                 Traceback (most recent call last)",
      "\u001b[36mCell\u001b[39m\u001b[36m \u001b[39m\u001b[32mIn[5]\u001b[39m\u001b[32m, line 26\u001b[39m\n\u001b[32m      8\u001b[39m request = {\n\u001b[32m      9\u001b[39m     \u001b[33m\"\u001b[39m\u001b[33mexperiment\u001b[39m\u001b[33m\"\u001b[39m: \u001b[33m\"\u001b[39m\u001b[33mrcp_4_5\u001b[39m\u001b[33m\"\u001b[39m,\n\u001b[32m     10\u001b[39m     \u001b[33m\"\u001b[39m\u001b[33mvariable\u001b[39m\u001b[33m\"\u001b[39m: [\n\u001b[32m   (...)\u001b[39m\u001b[32m     22\u001b[39m     ]\n\u001b[32m     23\u001b[39m }\n\u001b[32m     25\u001b[39m client = cdsapi.Client()\n\u001b[32m---> \u001b[39m\u001b[32m26\u001b[39m \u001b[43mclient\u001b[49m\u001b[43m.\u001b[49m\u001b[43mretrieve\u001b[49m\u001b[43m(\u001b[49m\u001b[43mdataset\u001b[49m\u001b[43m,\u001b[49m\u001b[43m \u001b[49m\u001b[43mrequest\u001b[49m\u001b[43m)\u001b[49m.download(file)\n",
      "\u001b[36mFile \u001b[39m\u001b[32m~/opt/anaconda3/envs/metanalysis/lib/python3.12/site-packages/cdsapi/api.py:381\u001b[39m, in \u001b[36mClient.retrieve\u001b[39m\u001b[34m(self, name, request, target)\u001b[39m\n\u001b[32m    380\u001b[39m \u001b[38;5;28;01mdef\u001b[39;00m\u001b[38;5;250m \u001b[39m\u001b[34mretrieve\u001b[39m(\u001b[38;5;28mself\u001b[39m, name, request, target=\u001b[38;5;28;01mNone\u001b[39;00m):\n\u001b[32m--> \u001b[39m\u001b[32m381\u001b[39m     result = \u001b[38;5;28;43mself\u001b[39;49m\u001b[43m.\u001b[49m\u001b[43m_api\u001b[49m\u001b[43m(\u001b[49m\u001b[33;43m\"\u001b[39;49m\u001b[38;5;132;43;01m%s\u001b[39;49;00m\u001b[33;43m/resources/\u001b[39;49m\u001b[38;5;132;43;01m%s\u001b[39;49;00m\u001b[33;43m\"\u001b[39;49m\u001b[43m \u001b[49m\u001b[43m%\u001b[49m\u001b[43m \u001b[49m\u001b[43m(\u001b[49m\u001b[38;5;28;43mself\u001b[39;49m\u001b[43m.\u001b[49m\u001b[43murl\u001b[49m\u001b[43m,\u001b[49m\u001b[43m \u001b[49m\u001b[43mname\u001b[49m\u001b[43m)\u001b[49m\u001b[43m,\u001b[49m\u001b[43m \u001b[49m\u001b[43mrequest\u001b[49m\u001b[43m,\u001b[49m\u001b[43m \u001b[49m\u001b[33;43m\"\u001b[39;49m\u001b[33;43mPOST\u001b[39;49m\u001b[33;43m\"\u001b[39;49m\u001b[43m)\u001b[49m\n\u001b[32m    382\u001b[39m     \u001b[38;5;28;01mif\u001b[39;00m target \u001b[38;5;129;01mis\u001b[39;00m \u001b[38;5;129;01mnot\u001b[39;00m \u001b[38;5;28;01mNone\u001b[39;00m:\n\u001b[32m    383\u001b[39m         result.download(target)\n",
      "\u001b[36mFile \u001b[39m\u001b[32m~/opt/anaconda3/envs/metanalysis/lib/python3.12/site-packages/cdsapi/api.py:481\u001b[39m, in \u001b[36mClient._api\u001b[39m\u001b[34m(self, url, request, method)\u001b[39m\n\u001b[32m    476\u001b[39m             e.append(\n\u001b[32m    477\u001b[39m                 \u001b[33m\"\u001b[39m\u001b[33mTo access this resource, you first need to accept the terms\u001b[39m\u001b[33m\"\u001b[39m\n\u001b[32m    478\u001b[39m                 \u001b[33m\"\u001b[39m\u001b[33mof \u001b[39m\u001b[33m'\u001b[39m\u001b[38;5;132;01m%s\u001b[39;00m\u001b[33m'\u001b[39m\u001b[33m at \u001b[39m\u001b[38;5;132;01m%s\u001b[39;00m\u001b[33m\"\u001b[39m % (t[\u001b[33m\"\u001b[39m\u001b[33mtitle\u001b[39m\u001b[33m\"\u001b[39m], t[\u001b[33m\"\u001b[39m\u001b[33murl\u001b[39m\u001b[33m\"\u001b[39m])\n\u001b[32m    479\u001b[39m             )\n\u001b[32m    480\u001b[39m         error = \u001b[33m\"\u001b[39m\u001b[33m. \u001b[39m\u001b[33m\"\u001b[39m.join(e)\n\u001b[32m--> \u001b[39m\u001b[32m481\u001b[39m     \u001b[38;5;28;01mraise\u001b[39;00m \u001b[38;5;167;01mException\u001b[39;00m(error)\n\u001b[32m    482\u001b[39m \u001b[38;5;28;01melse\u001b[39;00m:\n\u001b[32m    483\u001b[39m     \u001b[38;5;28;01mraise\u001b[39;00m\n",
      "\u001b[31mException\u001b[39m: Not Found"
     ]
    }
   ],
   "source": [
    "'''\n",
    "Download request for RCP 4.5 - HadGEM2-CC (UK Met Office) r1i1p1\n",
    "'''\n",
    "\n",
    "file = base_file_path + 'rcp45_hadgem2.nc'\n",
    "\n",
    "dataset = \"projections-cmip5-daily-pressure-levels\"\n",
    "request = {\n",
    "    \"experiment\": \"rcp_4_5\",\n",
    "    \"variable\": [\n",
    "        \"geopotential_height\",\n",
    "        \"temperature\",\n",
    "        \"u_component_of_wind\",\n",
    "        \"v_component_of_wind\"\n",
    "    ],\n",
    "    \"model\": \"hadgem2_cc\",\n",
    "    \"ensemble_member\": \"r1i1p1\",\n",
    "    \"period\": [\n",
    "        \"20301201-20351130\",\n",
    "        \"20401201-20451130\",\n",
    "        \"20701201-20751130\"\n",
    "    ]\n",
    "}\n",
    "\n",
    "client = cdsapi.Client()\n",
    "client.retrieve(dataset, request).download(file)\n"
   ]
  },
  {
   "cell_type": "code",
   "execution_count": null,
   "id": "dd9a86f4",
   "metadata": {},
   "outputs": [],
   "source": [
    "'''\n",
    "Download request for RCP 8.5 - CCSM4 (NCAR) r6i1p1\n",
    "'''\n",
    "\n",
    "file = base_file_path + 'rcp85_ccsm4.nc'\n",
    "\n",
    "dataset = \"projections-cmip5-daily-pressure-levels\"\n",
    "request = {\n",
    "    \"experiment\": \"rcp_8_5\",\n",
    "    \"variable\": [\n",
    "        \"geopotential_height\",\n",
    "        \"temperature\",\n",
    "        \"u_component_of_wind\",\n",
    "        \"v_component_of_wind\"\n",
    "    ],\n",
    "    \"model\": \"ccsm4\",\n",
    "    \"ensemble_member\": \"r6i1p1\",\n",
    "    \"period\": [\n",
    "        \"20300101-20341231\",\n",
    "        \"20400101-20441231\",\n",
    "        \"20700101-20741231\"\n",
    "    ]\n",
    "}\n",
    "\n",
    "client = cdsapi.Client()\n",
    "client.retrieve(dataset, request).download(file)\n"
   ]
  },
  {
   "cell_type": "code",
   "execution_count": null,
   "id": "117db01e",
   "metadata": {},
   "outputs": [],
   "source": [
    "'''\n",
    "Download request for RCP 8.5 - GFDL-CM3 (NOAA) r1i1p1\n",
    "'''\n",
    "\n",
    "file = base_file_path + 'rcp85_gfdlcm3.nc'\n",
    "\n",
    "dataset = \"projections-cmip5-daily-pressure-levels\"\n",
    "request = {\n",
    "    \"experiment\": \"rcp_8_5\",\n",
    "    \"variable\": [\n",
    "        \"geopotential_height\",\n",
    "        \"temperature\",\n",
    "        \"u_component_of_wind\",\n",
    "        \"v_component_of_wind\"\n",
    "    ],\n",
    "    \"model\": \"gfdl_cm3\",\n",
    "    \"ensemble_member\": \"r1i1p1\",\n",
    "    \"period\": [\n",
    "        \"20310101-20351231\",\n",
    "        \"20410101-20451231\",\n",
    "        \"20710101-20751231\"\n",
    "    ]\n",
    "}\n",
    "\n",
    "client = cdsapi.Client()\n",
    "client.retrieve(dataset, request).download(file)\n"
   ]
  },
  {
   "cell_type": "code",
   "execution_count": null,
   "id": "be0f4d7e",
   "metadata": {},
   "outputs": [],
   "source": [
    "'''\n",
    "Download request for RCP 8.5 - HadGEM2-CC (UK Met Office) r1i1p1\n",
    "'''\n",
    "\n",
    "file = base_file_path + 'rcp85_hadgem2.nc'\n",
    "\n",
    "dataset = \"projections-cmip5-daily-pressure-levels\"\n",
    "request = {\n",
    "    \"experiment\": \"rcp_8_5\",\n",
    "    \"variable\": [\n",
    "        \"geopotential_height\",\n",
    "        \"temperature\",\n",
    "        \"u_component_of_wind\",\n",
    "        \"v_component_of_wind\"\n",
    "    ],\n",
    "    \"model\": \"hadgem2_cc\",\n",
    "    \"ensemble_member\": \"r1i1p1\",\n",
    "    \"period\": [\n",
    "        \"20301201-20351130\",\n",
    "        \"20401201-20451130\",\n",
    "        \"20701201-20751130\"\n",
    "    ]\n",
    "}\n",
    "\n",
    "client = cdsapi.Client()\n",
    "client.retrieve(dataset, request).download(file)\n"
   ]
  }
 ],
 "metadata": {
  "kernelspec": {
   "display_name": "metanalysis",
   "language": "python",
   "name": "python3"
  },
  "language_info": {
   "codemirror_mode": {
    "name": "ipython",
    "version": 3
   },
   "file_extension": ".py",
   "mimetype": "text/x-python",
   "name": "python",
   "nbconvert_exporter": "python",
   "pygments_lexer": "ipython3",
   "version": "3.12.9"
  }
 },
 "nbformat": 4,
 "nbformat_minor": 5
}
